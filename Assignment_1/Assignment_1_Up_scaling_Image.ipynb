{
  "nbformat": 4,
  "nbformat_minor": 0,
  "metadata": {
    "colab": {
      "provenance": []
    },
    "kernelspec": {
      "name": "python3",
      "display_name": "Python 3"
    },
    "language_info": {
      "name": "python"
    }
  },
  "cells": [
    {
      "cell_type": "code",
      "execution_count": 1,
      "metadata": {
        "id": "ZDsqLnvAXSRq",
        "colab": {
          "base_uri": "https://localhost:8080/"
        },
        "outputId": "7b969952-8c4a-44ad-c104-8e61a44bae32"
      },
      "outputs": [
        {
          "output_type": "stream",
          "name": "stdout",
          "text": [
            "Drive already mounted at /content/drive; to attempt to forcibly remount, call drive.mount(\"/content/drive\", force_remount=True).\n"
          ]
        }
      ],
      "source": [
        "from google.colab import drive\n",
        "drive.mount('/content/drive')\n",
        "import os\n",
        "os.chdir('/content/drive/MyDrive/Document Image Analysis/Assignment_1')"
      ]
    },
    {
      "cell_type": "code",
      "source": [
        "!ls"
      ],
      "metadata": {
        "id": "yT6tbwctYDe3",
        "colab": {
          "base_uri": "https://localhost:8080/"
        },
        "outputId": "fdf72f6e-9ea9-4803-8a3f-48ad1a1c1cc0"
      },
      "execution_count": 2,
      "outputs": [
        {
          "output_type": "stream",
          "name": "stdout",
          "text": [
            " 1_600x900.jpg\t 2_1000x1500.jpg   3_3700x5500.jpg  'Assignment 1 – Up-scaling Image.ipynb'\n"
          ]
        }
      ]
    },
    {
      "cell_type": "markdown",
      "source": [
        "## UpScaling function"
      ],
      "metadata": {
        "id": "93kQAKO5bDzZ"
      }
    },
    {
      "cell_type": "markdown",
      "source": [
        "### First is nearest neighbor interpolation"
      ],
      "metadata": {
        "id": "aTzMl4RHesnv"
      }
    },
    {
      "cell_type": "code",
      "source": [
        "import numpy as np\n",
        "\n",
        "def nearest_neighbor_resize(image):\n",
        "    scale = 2\n",
        "    ori_height, ori_width = image.shape[:2]\n",
        "    new_height, new_width = ori_height*scale, ori_width*scale\n",
        "    resized_image = np.zeros((new_height, new_width, image.shape[2]), dtype=np.uint8)\n",
        "\n",
        "    # # use loop is too slow, more than 1 hour\n",
        "    # for i in range(ori_height):\n",
        "    #     for j in range(ori_width):\n",
        "    #         print(i, j)\n",
        "    #         resized_image[2*i, 2*j], resized_image[2*i+1, 2*j], resized_image[2*i, 2*j+1], resized_image[2*i+1, 2*j+1] = image[i, j], image[i, j], image[i, j], image[i, j]\n",
        "\n",
        "    # instead, use numpy\n",
        "    resized_image[::scale, ::scale] = image\n",
        "    resized_image[1::scale, ::scale] = image\n",
        "    resized_image[::scale, 1::scale] = image\n",
        "    resized_image[1::scale, 1::scale] = image\n",
        "\n",
        "    return resized_image"
      ],
      "metadata": {
        "id": "YCPwcuAheXgU"
      },
      "execution_count": 3,
      "outputs": []
    },
    {
      "cell_type": "markdown",
      "source": [
        "### Second is bilinear interpolation"
      ],
      "metadata": {
        "id": "-y8U3TvlevHo"
      }
    },
    {
      "cell_type": "code",
      "source": [
        "def bilinear_resize(image, up_rate):\n",
        "    ori_height, ori_width = image.shape[:2]\n",
        "    new_height, new_width = ori_height*up_rate, ori_width*up_rate\n",
        "    resized_image = np.zeros((new_height, new_width, image.shape[2]), dtype=np.uint8)\n",
        "\n",
        "    print(resized_image.shape)\n",
        "\n",
        "    for i in range(new_height):\n",
        "        for j in range(new_width):\n",
        "            x = int(i * 1.0/up_rate)\n",
        "            y = int(j * 1.0/up_rate)\n",
        "\n",
        "            print(x, y)\n",
        "\n",
        "            x_floor, y_floor = x, y\n",
        "            x_ceil, y_ceil = min(x_floor + 1, ori_height - 1), min(y_floor + 1, ori_width - 1)\n",
        "\n",
        "            tl = image[x_floor, y_floor]\n",
        "            tr = image[x_floor, y_ceil]\n",
        "            bl = image[x_ceil, y_floor]\n",
        "            br = image[x_ceil, y_ceil]\n",
        "\n",
        "            top = tl + (tr - tl) * (y - y_floor)\n",
        "            bottom = bl + (br - bl) * (y - y_floor)\n",
        "            pixel_value = top + (bottom - top) * (x - x_floor)\n",
        "\n",
        "            resized_image[i, j] = np.clip(pixel_value, 0, 255)\n",
        "\n",
        "    return resized_image"
      ],
      "metadata": {
        "id": "7cR8eUfPezR_"
      },
      "execution_count": 4,
      "outputs": []
    },
    {
      "cell_type": "markdown",
      "source": [
        "However, two for loop is two slow."
      ],
      "metadata": {
        "id": "LvsilifSNLgG"
      }
    },
    {
      "cell_type": "markdown",
      "source": [
        "Try to implement with numpy"
      ],
      "metadata": {
        "id": "GTy4u8bHTKtW"
      }
    },
    {
      "cell_type": "code",
      "source": [
        "def bilinear_resize(image, scale=2):\n",
        "    src_height, src_width = image.shape[:2]\n",
        "    dst_height = src_height * scale\n",
        "    dst_width = src_width * scale\n",
        "\n",
        "    dst_x, dst_y = np.meshgrid(np.arange(dst_width), np.arange(dst_height))\n",
        "\n",
        "    src_x = dst_x / scale\n",
        "    src_y = dst_y / scale\n",
        "\n",
        "    x0 = np.floor(src_x).astype(np.int64)\n",
        "    x1 = x0 + 1\n",
        "    y0 = np.floor(src_y).astype(np.int64)\n",
        "    y1 = y0 + 1\n",
        "\n",
        "    x0 = np.clip(x0, 0, src_width - 1)\n",
        "    x1 = np.clip(x1, 0, src_width - 1)\n",
        "    y0 = np.clip(y0, 0, src_height - 1)\n",
        "    y1 = np.clip(y1, 0, src_height - 1)\n",
        "\n",
        "    Ia = image[y0, x0]\n",
        "    Ib = image[y1, x0]\n",
        "    Ic = image[y0, x1]\n",
        "    Id = image[y1, x1]\n",
        "\n",
        "    # still some problem\n",
        "    wa = (x1 - src_x) * (y1 - src_y) # bottom right - center\n",
        "    wb = (x1 - src_x) * (src_y - y0) # right - center\n",
        "    wc = (src_x - x0) * (y1 - src_y) # center -\n",
        "    wd = (src_x - x0) * (src_y - y0)\n",
        "\n",
        "    output = wa[..., np.newaxis] * Ia + wb[..., np.newaxis] * Ib + wc[..., np.newaxis] * Ic + wd[..., np.newaxis] * Id\n",
        "\n",
        "    return output"
      ],
      "metadata": {
        "id": "gdnjE69COPCM"
      },
      "execution_count": 5,
      "outputs": []
    },
    {
      "cell_type": "markdown",
      "source": [
        "## Load, up-scaling and save"
      ],
      "metadata": {
        "id": "j8y_zvXHa7oI"
      }
    },
    {
      "cell_type": "code",
      "source": [
        "from PIL import Image\n",
        "import os\n",
        "\n",
        "current_dir = '.'\n",
        "methods = ['_Neighbor', '_Bilinear']\n",
        "methods = ['_Neighbor']\n",
        "\n",
        "for method in methods:\n",
        "    for filename in os.listdir(current_dir):\n",
        "        if filename.endswith('.jpg'):\n",
        "            print(filename)\n",
        "            image = Image.open(filename)\n",
        "            image = np.array(image)\n",
        "            if method == '_Neighbor':\n",
        "              image_UpScaling = nearest_neighbor_resize(image)\n",
        "            elif method == '_Bilinear':\n",
        "              image_UpScaling = bilinear_resize(image)\n",
        "            image_UpScaling = Image.fromarray(image_UpScaling)\n",
        "\n",
        "            base_filename, file_extension = os.path.splitext(filename)\n",
        "            new_filename = base_filename + method + file_extension\n",
        "\n",
        "            image_UpScaling.save(new_filename)"
      ],
      "metadata": {
        "id": "kPhe2Ng2YHs5",
        "colab": {
          "base_uri": "https://localhost:8080/"
        },
        "outputId": "aa1d1370-435f-4a23-ea0e-df579cdaaf2c"
      },
      "execution_count": 6,
      "outputs": [
        {
          "output_type": "stream",
          "name": "stdout",
          "text": [
            "3_3700x5500.jpg\n",
            "2_1000x1500.jpg\n",
            "1_600x900.jpg\n"
          ]
        }
      ]
    }
  ]
}